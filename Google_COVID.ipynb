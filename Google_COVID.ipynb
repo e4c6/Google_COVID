{
 "cells": [
  {
   "cell_type": "code",
   "execution_count": 106,
   "metadata": {},
   "outputs": [],
   "source": [
    "import requests\n",
    "import time\n",
    "import os\n",
    "import json"
   ]
  },
  {
   "cell_type": "markdown",
   "metadata": {},
   "source": [
    "# Collect URLs"
   ]
  },
  {
   "cell_type": "code",
   "execution_count": null,
   "metadata": {},
   "outputs": [],
   "source": [
    "# Navigate to https://www.google.com/covid19/mobility/ and type in chrome console. \n",
    "\n",
    "\n",
    "# var anchors = document.getElementsByTagName('a');\n",
    "# var hrefs = [];\n",
    "# for(var i=0; i < anchors.length; i++){\n",
    "#   if(1/* add filtering here*/)\n",
    "#     hrefs.push(anchors[i].href);\n",
    "# }\n",
    "# hrefs.slice(4, 185) "
   ]
  },
  {
   "cell_type": "markdown",
   "metadata": {},
   "source": [
    "# Download"
   ]
  },
  {
   "cell_type": "code",
   "execution_count": null,
   "metadata": {},
   "outputs": [],
   "source": [
    "urls = [\"https://www.gstatic.com/covid19/mobility/2020-03-29_AF_Mobility_Report_en.pdf\",\"https://www.gstatic.com/covid19/mobility/2020-03-29_AO_Mobility_Report_en.pdf\",\"https://www.gstatic.com/covid19/mobility/2020-03-29_AG_Mobility_Report_en.pdf\",\"https://www.gstatic.com/covid19/mobility/2020-03-29_AR_Mobility_Report_en.pdf\",\"https://www.gstatic.com/covid19/mobility/2020-03-29_AW_Mobility_Report_en.pdf\",\"https://www.gstatic.com/covid19/mobility/2020-03-29_AU_Mobility_Report_en.pdf\",\"https://www.gstatic.com/covid19/mobility/2020-03-29_AT_Mobility_Report_en.pdf\",\"https://www.gstatic.com/covid19/mobility/2020-03-29_BH_Mobility_Report_en.pdf\",\"https://www.gstatic.com/covid19/mobility/2020-03-29_BD_Mobility_Report_en.pdf\",\"https://www.gstatic.com/covid19/mobility/2020-03-29_BB_Mobility_Report_en.pdf\",\"https://www.gstatic.com/covid19/mobility/2020-03-29_BY_Mobility_Report_en.pdf\",\"https://www.gstatic.com/covid19/mobility/2020-03-29_BE_Mobility_Report_en.pdf\",\"https://www.gstatic.com/covid19/mobility/2020-03-29_BZ_Mobility_Report_en.pdf\",\"https://www.gstatic.com/covid19/mobility/2020-03-29_BJ_Mobility_Report_en.pdf\",\"https://www.gstatic.com/covid19/mobility/2020-03-29_BO_Mobility_Report_en.pdf\",\"https://www.gstatic.com/covid19/mobility/2020-03-29_BA_Mobility_Report_en.pdf\",\"https://www.gstatic.com/covid19/mobility/2020-03-29_BW_Mobility_Report_en.pdf\",\"https://www.gstatic.com/covid19/mobility/2020-03-29_BR_Mobility_Report_en.pdf\",\"https://www.gstatic.com/covid19/mobility/2020-03-29_BG_Mobility_Report_en.pdf\",\"https://www.gstatic.com/covid19/mobility/2020-03-29_BF_Mobility_Report_en.pdf\",\"https://www.gstatic.com/covid19/mobility/2020-03-29_KH_Mobility_Report_en.pdf\",\"https://www.gstatic.com/covid19/mobility/2020-03-29_CM_Mobility_Report_en.pdf\",\"https://www.gstatic.com/covid19/mobility/2020-03-29_CA_Mobility_Report_en.pdf\",\"https://www.gstatic.com/covid19/mobility/2020-03-29_CV_Mobility_Report_en.pdf\",\"https://www.gstatic.com/covid19/mobility/2020-03-29_CL_Mobility_Report_en.pdf\",\"https://www.gstatic.com/covid19/mobility/2020-03-29_CO_Mobility_Report_en.pdf\",\"https://www.gstatic.com/covid19/mobility/2020-03-29_CR_Mobility_Report_en.pdf\",\"https://www.gstatic.com/covid19/mobility/2020-03-29_HR_Mobility_Report_en.pdf\",\"https://www.gstatic.com/covid19/mobility/2020-03-29_CZ_Mobility_Report_en.pdf\",\"https://www.gstatic.com/covid19/mobility/2020-03-29_CI_Mobility_Report_en.pdf\",\"https://www.gstatic.com/covid19/mobility/2020-03-29_DK_Mobility_Report_en.pdf\",\"https://www.gstatic.com/covid19/mobility/2020-03-29_DO_Mobility_Report_en.pdf\",\"https://www.gstatic.com/covid19/mobility/2020-03-29_EC_Mobility_Report_en.pdf\",\"https://www.gstatic.com/covid19/mobility/2020-03-29_EG_Mobility_Report_en.pdf\",\"https://www.gstatic.com/covid19/mobility/2020-03-29_SV_Mobility_Report_en.pdf\",\"https://www.gstatic.com/covid19/mobility/2020-03-29_EE_Mobility_Report_en.pdf\",\"https://www.gstatic.com/covid19/mobility/2020-03-29_FJ_Mobility_Report_en.pdf\",\"https://www.gstatic.com/covid19/mobility/2020-03-29_FI_Mobility_Report_en.pdf\",\"https://www.gstatic.com/covid19/mobility/2020-03-29_FR_Mobility_Report_en.pdf\",\"https://www.gstatic.com/covid19/mobility/2020-03-29_GA_Mobility_Report_en.pdf\",\"https://www.gstatic.com/covid19/mobility/2020-03-29_GE_Mobility_Report_en.pdf\",\"https://www.gstatic.com/covid19/mobility/2020-03-29_DE_Mobility_Report_en.pdf\",\"https://www.gstatic.com/covid19/mobility/2020-03-29_GH_Mobility_Report_en.pdf\",\"https://www.gstatic.com/covid19/mobility/2020-03-29_GR_Mobility_Report_en.pdf\",\"https://www.gstatic.com/covid19/mobility/2020-03-29_GT_Mobility_Report_en.pdf\",\"https://www.gstatic.com/covid19/mobility/2020-03-29_GW_Mobility_Report_en.pdf\",\"https://www.gstatic.com/covid19/mobility/2020-03-29_HT_Mobility_Report_en.pdf\",\"https://www.gstatic.com/covid19/mobility/2020-03-29_HN_Mobility_Report_en.pdf\",\"https://www.gstatic.com/covid19/mobility/2020-03-29_HK_Mobility_Report_en.pdf\",\"https://www.gstatic.com/covid19/mobility/2020-03-29_HU_Mobility_Report_en.pdf\",\"https://www.gstatic.com/covid19/mobility/2020-03-29_IN_Mobility_Report_en.pdf\",\"https://www.gstatic.com/covid19/mobility/2020-03-29_ID_Mobility_Report_en.pdf\",\"https://www.gstatic.com/covid19/mobility/2020-03-29_IQ_Mobility_Report_en.pdf\",\"https://www.gstatic.com/covid19/mobility/2020-03-29_IE_Mobility_Report_en.pdf\",\"https://www.gstatic.com/covid19/mobility/2020-03-29_IL_Mobility_Report_en.pdf\",\"https://www.gstatic.com/covid19/mobility/2020-03-29_IT_Mobility_Report_en.pdf\",\"https://www.gstatic.com/covid19/mobility/2020-03-29_JM_Mobility_Report_en.pdf\",\"https://www.gstatic.com/covid19/mobility/2020-03-29_JP_Mobility_Report_en.pdf\",\"https://www.gstatic.com/covid19/mobility/2020-03-29_JO_Mobility_Report_en.pdf\",\"https://www.gstatic.com/covid19/mobility/2020-03-29_KZ_Mobility_Report_en.pdf\",\"https://www.gstatic.com/covid19/mobility/2020-03-29_KE_Mobility_Report_en.pdf\",\"https://www.gstatic.com/covid19/mobility/2020-03-29_KW_Mobility_Report_en.pdf\",\"https://www.gstatic.com/covid19/mobility/2020-03-29_KG_Mobility_Report_en.pdf\",\"https://www.gstatic.com/covid19/mobility/2020-03-29_LA_Mobility_Report_en.pdf\",\"https://www.gstatic.com/covid19/mobility/2020-03-29_LV_Mobility_Report_en.pdf\",\"https://www.gstatic.com/covid19/mobility/2020-03-29_LB_Mobility_Report_en.pdf\",\"https://www.gstatic.com/covid19/mobility/2020-03-29_LY_Mobility_Report_en.pdf\",\"https://www.gstatic.com/covid19/mobility/2020-03-29_LI_Mobility_Report_en.pdf\",\"https://www.gstatic.com/covid19/mobility/2020-03-29_LT_Mobility_Report_en.pdf\",\"https://www.gstatic.com/covid19/mobility/2020-03-29_LU_Mobility_Report_en.pdf\",\"https://www.gstatic.com/covid19/mobility/2020-03-29_MY_Mobility_Report_en.pdf\",\"https://www.gstatic.com/covid19/mobility/2020-03-29_ML_Mobility_Report_en.pdf\",\"https://www.gstatic.com/covid19/mobility/2020-03-29_MT_Mobility_Report_en.pdf\",\"https://www.gstatic.com/covid19/mobility/2020-03-29_MU_Mobility_Report_en.pdf\",\"https://www.gstatic.com/covid19/mobility/2020-03-29_MX_Mobility_Report_en.pdf\",\"https://www.gstatic.com/covid19/mobility/2020-03-29_MD_Mobility_Report_en.pdf\",\"https://www.gstatic.com/covid19/mobility/2020-03-29_MN_Mobility_Report_en.pdf\",\"https://www.gstatic.com/covid19/mobility/2020-03-29_MZ_Mobility_Report_en.pdf\",\"https://www.gstatic.com/covid19/mobility/2020-03-29_MM_Mobility_Report_en.pdf\",\"https://www.gstatic.com/covid19/mobility/2020-03-29_NA_Mobility_Report_en.pdf\",\"https://www.gstatic.com/covid19/mobility/2020-03-29_NP_Mobility_Report_en.pdf\",\"https://www.gstatic.com/covid19/mobility/2020-03-29_NL_Mobility_Report_en.pdf\",\"https://www.gstatic.com/covid19/mobility/2020-03-29_NZ_Mobility_Report_en.pdf\",\"https://www.gstatic.com/covid19/mobility/2020-03-29_NI_Mobility_Report_en.pdf\",\"https://www.gstatic.com/covid19/mobility/2020-03-29_NE_Mobility_Report_en.pdf\",\"https://www.gstatic.com/covid19/mobility/2020-03-29_NG_Mobility_Report_en.pdf\",\"https://www.gstatic.com/covid19/mobility/2020-03-29_MK_Mobility_Report_en.pdf\",\"https://www.gstatic.com/covid19/mobility/2020-03-29_NO_Mobility_Report_en.pdf\",\"https://www.gstatic.com/covid19/mobility/2020-03-29_OM_Mobility_Report_en.pdf\",\"https://www.gstatic.com/covid19/mobility/2020-03-29_PK_Mobility_Report_en.pdf\",\"https://www.gstatic.com/covid19/mobility/2020-03-29_PA_Mobility_Report_en.pdf\",\"https://www.gstatic.com/covid19/mobility/2020-03-29_PG_Mobility_Report_en.pdf\",\"https://www.gstatic.com/covid19/mobility/2020-03-29_PY_Mobility_Report_en.pdf\",\"https://www.gstatic.com/covid19/mobility/2020-03-29_PE_Mobility_Report_en.pdf\",\"https://www.gstatic.com/covid19/mobility/2020-03-29_PH_Mobility_Report_en.pdf\",\"https://www.gstatic.com/covid19/mobility/2020-03-29_PL_Mobility_Report_en.pdf\",\"https://www.gstatic.com/covid19/mobility/2020-03-29_PT_Mobility_Report_en.pdf\",\"https://www.gstatic.com/covid19/mobility/2020-03-29_PR_Mobility_Report_en.pdf\",\"https://www.gstatic.com/covid19/mobility/2020-03-29_QA_Mobility_Report_en.pdf\",\"https://www.gstatic.com/covid19/mobility/2020-03-29_RO_Mobility_Report_en.pdf\",\"https://www.gstatic.com/covid19/mobility/2020-03-29_RW_Mobility_Report_en.pdf\",\"https://www.gstatic.com/covid19/mobility/2020-03-29_RE_Mobility_Report_en.pdf\",\"https://www.gstatic.com/covid19/mobility/2020-03-29_SA_Mobility_Report_en.pdf\",\"https://www.gstatic.com/covid19/mobility/2020-03-29_SN_Mobility_Report_en.pdf\",\"https://www.gstatic.com/covid19/mobility/2020-03-29_SG_Mobility_Report_en.pdf\",\"https://www.gstatic.com/covid19/mobility/2020-03-29_SK_Mobility_Report_en.pdf\",\"https://www.gstatic.com/covid19/mobility/2020-03-29_SI_Mobility_Report_en.pdf\",\"https://www.gstatic.com/covid19/mobility/2020-03-29_ZA_Mobility_Report_en.pdf\",\"https://www.gstatic.com/covid19/mobility/2020-03-29_KR_Mobility_Report_en.pdf\",\"https://www.gstatic.com/covid19/mobility/2020-03-29_ES_Mobility_Report_en.pdf\",\"https://www.gstatic.com/covid19/mobility/2020-03-29_LK_Mobility_Report_en.pdf\",\"https://www.gstatic.com/covid19/mobility/2020-03-29_SE_Mobility_Report_en.pdf\",\"https://www.gstatic.com/covid19/mobility/2020-03-29_CH_Mobility_Report_en.pdf\",\"https://www.gstatic.com/covid19/mobility/2020-03-29_TW_Mobility_Report_en.pdf\",\"https://www.gstatic.com/covid19/mobility/2020-03-29_TJ_Mobility_Report_en.pdf\",\"https://www.gstatic.com/covid19/mobility/2020-03-29_TZ_Mobility_Report_en.pdf\",\"https://www.gstatic.com/covid19/mobility/2020-03-29_TH_Mobility_Report_en.pdf\",\"https://www.gstatic.com/covid19/mobility/2020-03-29_BS_Mobility_Report_en.pdf\",\"https://www.gstatic.com/covid19/mobility/2020-03-29_TG_Mobility_Report_en.pdf\",\"https://www.gstatic.com/covid19/mobility/2020-03-29_TT_Mobility_Report_en.pdf\",\"https://www.gstatic.com/covid19/mobility/2020-03-29_TR_Mobility_Report_en.pdf\",\"https://www.gstatic.com/covid19/mobility/2020-03-29_UG_Mobility_Report_en.pdf\",\"https://www.gstatic.com/covid19/mobility/2020-03-29_AE_Mobility_Report_en.pdf\",\"https://www.gstatic.com/covid19/mobility/2020-03-29_GB_Mobility_Report_en.pdf\",\"https://www.gstatic.com/covid19/mobility/2020-03-29_US_Mobility_Report_en.pdf\",\"https://www.gstatic.com/covid19/mobility/2020-03-29_US_Alabama_Mobility_Report_en.pdf\",\"https://www.gstatic.com/covid19/mobility/2020-03-29_US_Alaska_Mobility_Report_en.pdf\",\"https://www.gstatic.com/covid19/mobility/2020-03-29_US_Arizona_Mobility_Report_en.pdf\",\"https://www.gstatic.com/covid19/mobility/2020-03-29_US_Arkansas_Mobility_Report_en.pdf\",\"https://www.gstatic.com/covid19/mobility/2020-03-29_US_California_Mobility_Report_en.pdf\",\"https://www.gstatic.com/covid19/mobility/2020-03-29_US_Colorado_Mobility_Report_en.pdf\",\"https://www.gstatic.com/covid19/mobility/2020-03-29_US_Connecticut_Mobility_Report_en.pdf\",\"https://www.gstatic.com/covid19/mobility/2020-03-29_US_Delaware_Mobility_Report_en.pdf\",\"https://www.gstatic.com/covid19/mobility/2020-03-29_US_District_of_Columbia_Mobility_Report_en.pdf\",\"https://www.gstatic.com/covid19/mobility/2020-03-29_US_Florida_Mobility_Report_en.pdf\",\"https://www.gstatic.com/covid19/mobility/2020-03-29_US_Georgia_Mobility_Report_en.pdf\",\"https://www.gstatic.com/covid19/mobility/2020-03-29_US_Hawaii_Mobility_Report_en.pdf\",\"https://www.gstatic.com/covid19/mobility/2020-03-29_US_Idaho_Mobility_Report_en.pdf\",\"https://www.gstatic.com/covid19/mobility/2020-03-29_US_Illinois_Mobility_Report_en.pdf\",\"https://www.gstatic.com/covid19/mobility/2020-03-29_US_Indiana_Mobility_Report_en.pdf\",\"https://www.gstatic.com/covid19/mobility/2020-03-29_US_Iowa_Mobility_Report_en.pdf\",\"https://www.gstatic.com/covid19/mobility/2020-03-29_US_Kansas_Mobility_Report_en.pdf\",\"https://www.gstatic.com/covid19/mobility/2020-03-29_US_Kentucky_Mobility_Report_en.pdf\",\"https://www.gstatic.com/covid19/mobility/2020-03-29_US_Louisiana_Mobility_Report_en.pdf\",\"https://www.gstatic.com/covid19/mobility/2020-03-29_US_Maine_Mobility_Report_en.pdf\",\"https://www.gstatic.com/covid19/mobility/2020-03-29_US_Maryland_Mobility_Report_en.pdf\",\"https://www.gstatic.com/covid19/mobility/2020-03-29_US_Massachusetts_Mobility_Report_en.pdf\",\"https://www.gstatic.com/covid19/mobility/2020-03-29_US_Michigan_Mobility_Report_en.pdf\",\"https://www.gstatic.com/covid19/mobility/2020-03-29_US_Minnesota_Mobility_Report_en.pdf\",\"https://www.gstatic.com/covid19/mobility/2020-03-29_US_Mississippi_Mobility_Report_en.pdf\",\"https://www.gstatic.com/covid19/mobility/2020-03-29_US_Missouri_Mobility_Report_en.pdf\",\"https://www.gstatic.com/covid19/mobility/2020-03-29_US_Montana_Mobility_Report_en.pdf\",\"https://www.gstatic.com/covid19/mobility/2020-03-29_US_Nebraska_Mobility_Report_en.pdf\",\"https://www.gstatic.com/covid19/mobility/2020-03-29_US_Nevada_Mobility_Report_en.pdf\",\"https://www.gstatic.com/covid19/mobility/2020-03-29_US_New_Hampshire_Mobility_Report_en.pdf\",\"https://www.gstatic.com/covid19/mobility/2020-03-29_US_New_Jersey_Mobility_Report_en.pdf\",\"https://www.gstatic.com/covid19/mobility/2020-03-29_US_New_Mexico_Mobility_Report_en.pdf\",\"https://www.gstatic.com/covid19/mobility/2020-03-29_US_New_York_Mobility_Report_en.pdf\",\"https://www.gstatic.com/covid19/mobility/2020-03-29_US_North_Carolina_Mobility_Report_en.pdf\",\"https://www.gstatic.com/covid19/mobility/2020-03-29_US_North_Dakota_Mobility_Report_en.pdf\",\"https://www.gstatic.com/covid19/mobility/2020-03-29_US_Ohio_Mobility_Report_en.pdf\",\"https://www.gstatic.com/covid19/mobility/2020-03-29_US_Oklahoma_Mobility_Report_en.pdf\",\"https://www.gstatic.com/covid19/mobility/2020-03-29_US_Oregon_Mobility_Report_en.pdf\",\"https://www.gstatic.com/covid19/mobility/2020-03-29_US_Pennsylvania_Mobility_Report_en.pdf\",\"https://www.gstatic.com/covid19/mobility/2020-03-29_US_Rhode_Island_Mobility_Report_en.pdf\",\"https://www.gstatic.com/covid19/mobility/2020-03-29_US_South_Carolina_Mobility_Report_en.pdf\",\"https://www.gstatic.com/covid19/mobility/2020-03-29_US_South_Dakota_Mobility_Report_en.pdf\",\"https://www.gstatic.com/covid19/mobility/2020-03-29_US_Tennessee_Mobility_Report_en.pdf\",\"https://www.gstatic.com/covid19/mobility/2020-03-29_US_Texas_Mobility_Report_en.pdf\",\"https://www.gstatic.com/covid19/mobility/2020-03-29_US_Utah_Mobility_Report_en.pdf\",\"https://www.gstatic.com/covid19/mobility/2020-03-29_US_Vermont_Mobility_Report_en.pdf\",\"https://www.gstatic.com/covid19/mobility/2020-03-29_US_Virginia_Mobility_Report_en.pdf\",\"https://www.gstatic.com/covid19/mobility/2020-03-29_US_Washington_Mobility_Report_en.pdf\",\"https://www.gstatic.com/covid19/mobility/2020-03-29_US_West_Virginia_Mobility_Report_en.pdf\",\"https://www.gstatic.com/covid19/mobility/2020-03-29_US_Wisconsin_Mobility_Report_en.pdf\",\"https://www.gstatic.com/covid19/mobility/2020-03-29_US_Wyoming_Mobility_Report_en.pdf\",\"https://www.gstatic.com/covid19/mobility/2020-03-29_UY_Mobility_Report_en.pdf\",\"https://www.gstatic.com/covid19/mobility/2020-03-29_VE_Mobility_Report_en.pdf\",\"https://www.gstatic.com/covid19/mobility/2020-03-29_VN_Mobility_Report_en.pdf\",\"https://www.gstatic.com/covid19/mobility/2020-03-29_YE_Mobility_Report_en.pdf\",\"https://www.gstatic.com/covid19/mobility/2020-03-29_ZM_Mobility_Report_en.pdf\"]\n",
    "\n",
    "for url in urls:\n",
    "    with open(\"<YOUR_PDF_DIRECTORY>/\"+url.split(\"/\")[-1], \"wb\") as out:\n",
    "                 r = requests.get(url)\n",
    "                 out.write(r.content)\n",
    "                 time.sleep(0.3)\n"
   ]
  },
  {
   "cell_type": "markdown",
   "metadata": {},
   "source": [
    "# Parse"
   ]
  },
  {
   "cell_type": "code",
   "execution_count": 5,
   "metadata": {},
   "outputs": [],
   "source": [
    "folder = \"<YOUR_TEXTS_DIRECTORY>/\"\n",
    "files = os.listdir(folder)"
   ]
  },
  {
   "cell_type": "code",
   "execution_count": 110,
   "metadata": {},
   "outputs": [],
   "source": [
    "def parse_text(file):\n",
    "    txt = open(folder+file, \"r\")\n",
    "    lines = txt.readlines()\n",
    "    country = lines[2].split(\"March\")[0].strip()\n",
    "    location1 = lines[18].strip()\n",
    "    assert location1 == \"Retail & recreation\"\n",
    "    location1_rate = lines[20].split(\" \")[0].strip()\n",
    "    location2 = lines[29].strip()\n",
    "    assert location2 == \"Grocery & pharmacy\"\n",
    "    location2_rate = lines[31].split(\" \")[0].strip()\n",
    "    location3 = lines[39].strip()\n",
    "    assert location3 == \"Parks\"\n",
    "    location3_rate = lines[41].split(\" \")[0].strip()\n",
    "    location4 = lines[48].split(\"Mar 29\")[1].strip()\n",
    "    assert location4 == \"Transit stations\"\n",
    "    location4_rate = lines[50].split(\" \")[0]\n",
    "    location5 = lines[58].strip()\n",
    "    assert location5 == \"Workplaces\"\n",
    "    location5_rate = lines[60].split(\" \")[0]\n",
    "    location6 = lines[68].strip()\n",
    "    assert location6 == \"Residential\"\n",
    "    location6_rate = lines[70].split(\" \")[0]\n",
    "    data = {\n",
    "        \"Country\": country,\n",
    "        location1: location1_rate,\n",
    "        location2: location2_rate,\n",
    "        location3: location3_rate,\n",
    "        location4: location4_rate,\n",
    "        location5: location5_rate,\n",
    "        location6: location6_rate\n",
    "    }\n",
    "    return data"
   ]
  },
  {
   "cell_type": "code",
   "execution_count": 111,
   "metadata": {},
   "outputs": [
    {
     "name": "stdout",
     "output_type": "stream",
     "text": [
      "\n",
      "\n",
      "\n",
      "\n",
      "\n"
     ]
    }
   ],
   "source": [
    "success_count = 0\n",
    "fails = []\n",
    "for file in files:\n",
    "    try:\n",
    "        with open(\"<YOUR_OUTPUT_DIRECTORY>/<YOUR_JSON_OUTPUT>\", \"a\") as out:\n",
    "            out.write(json.dumps(parse_text(file)))\n",
    "            out.write(\"\\n\")\n",
    "            success_count += 1\n",
    "    except Exception as e:\n",
    "        print(e)\n",
    "        fails.append(file)\n",
    "        continue"
   ]
  },
  {
   "cell_type": "code",
   "execution_count": 112,
   "metadata": {},
   "outputs": [
    {
     "data": {
      "text/plain": [
       "['2020-03-29_GW_Mobility_Report_en.txt',\n",
       " '2020-03-29_LI_Mobility_Report_en.txt',\n",
       " '2020-03-29_RE_Mobility_Report_en.txt',\n",
       " '2020-03-29_AG_Mobility_Report_en.txt',\n",
       " '2020-03-29_PG_Mobility_Report_en.txt']"
      ]
     },
     "execution_count": 112,
     "metadata": {},
     "output_type": "execute_result"
    }
   ],
   "source": [
    "fails # statistically insignificant figures break the text parser"
   ]
  },
  {
   "cell_type": "code",
   "execution_count": 113,
   "metadata": {},
   "outputs": [
    {
     "data": {
      "text/plain": [
       "181"
      ]
     },
     "execution_count": 113,
     "metadata": {},
     "output_type": "execute_result"
    }
   ],
   "source": [
    "len(files)"
   ]
  },
  {
   "cell_type": "code",
   "execution_count": 114,
   "metadata": {},
   "outputs": [
    {
     "data": {
      "text/plain": [
       "176"
      ]
     },
     "execution_count": 114,
     "metadata": {},
     "output_type": "execute_result"
    }
   ],
   "source": [
    "success_count"
   ]
  },
  {
   "cell_type": "code",
   "execution_count": 115,
   "metadata": {},
   "outputs": [
    {
     "data": {
      "text/plain": [
       "5"
      ]
     },
     "execution_count": 115,
     "metadata": {},
     "output_type": "execute_result"
    }
   ],
   "source": [
    "len(fails)"
   ]
  },
  {
   "cell_type": "code",
   "execution_count": null,
   "metadata": {},
   "outputs": [],
   "source": [
    "# Stay strong."
   ]
  }
 ],
 "metadata": {
  "kernelspec": {
   "display_name": "Python 3",
   "language": "python",
   "name": "python3"
  },
  "language_info": {
   "codemirror_mode": {
    "name": "ipython",
    "version": 3
   },
   "file_extension": ".py",
   "mimetype": "text/x-python",
   "name": "python",
   "nbconvert_exporter": "python",
   "pygments_lexer": "ipython3",
   "version": "3.7.4"
  }
 },
 "nbformat": 4,
 "nbformat_minor": 2
}
